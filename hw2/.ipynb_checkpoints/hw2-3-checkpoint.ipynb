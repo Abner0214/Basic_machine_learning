{
 "cells": [
  {
   "cell_type": "code",
   "execution_count": 3,
   "id": "17aa4f02-e2d7-44ab-afc3-f03242fcc62b",
   "metadata": {},
   "outputs": [
    {
     "name": "stdout",
     "output_type": "stream",
     "text": [
      "Confusion Matrix:\n",
      "[[1426   91]\n",
      " [ 316  167]]\n",
      "Accuracy: 0.79650\n"
     ]
    }
   ],
   "source": [
    "# Import necessary libraries\n",
    "import pandas as pd\n",
    "from sklearn.model_selection import train_test_split\n",
    "from sklearn.linear_model import LogisticRegression\n",
    "from sklearn.metrics import confusion_matrix, accuracy_score\n",
    "from sklearn.preprocessing import StandardScaler\n",
    "import warnings\n",
    "\n",
    "# Suppress FutureWarning messages\n",
    "warnings.simplefilter(action='ignore', category=FutureWarning)\n",
    "\n",
    "# Read the original training data\n",
    "original_train_data = pd.read_csv('data/HW2_hr-analytics_train.csv')\n",
    "\n",
    "# Shuffle the data every time when you run the code\n",
    "shuffled_train_data = original_train_data.sample(frac=1)  # Shuffle without specifying a random state\n",
    "\n",
    "# Split the shuffled data into train (80%) and test (20%)\n",
    "train_data, test_data = train_test_split(shuffled_train_data, test_size=0.2)\n",
    "\n",
    "# Encode non-numeric columns\n",
    "train_data_encoded = pd.get_dummies(train_data, columns=['sales', 'salary'])\n",
    "test_data_encoded = pd.get_dummies(test_data, columns=['sales', 'salary'])\n",
    "\n",
    "# Fill missing values if any (if your data has missing values)\n",
    "# Since you didn't mention missing values, this step may not be necessary.\n",
    "\n",
    "# Scale the features using StandardScaler\n",
    "scaler = StandardScaler()\n",
    "X_train_scaled = scaler.fit_transform(train_data_encoded[['satisfaction_level', 'last_evaluation', 'number_project', \n",
    "                                                         'average_montly_hours', 'time_spend_company', 'Work_accident', \n",
    "                                                         'promotion_last_5years', 'sales_IT', 'sales_RandD', \n",
    "                                                         'sales_accounting', 'sales_hr', 'sales_management', \n",
    "                                                         'sales_marketing', 'sales_product_mng', 'sales_sales', \n",
    "                                                         'sales_support', 'sales_technical', 'salary_high', \n",
    "                                                         'salary_low', 'salary_medium']])\n",
    "X_test_scaled = scaler.transform(test_data_encoded[['satisfaction_level', 'last_evaluation', 'number_project', \n",
    "                                                    'average_montly_hours', 'time_spend_company', 'Work_accident', \n",
    "                                                    'promotion_last_5years', 'sales_IT', 'sales_RandD', \n",
    "                                                    'sales_accounting', 'sales_hr', 'sales_management', \n",
    "                                                    'sales_marketing', 'sales_product_mng', 'sales_sales', \n",
    "                                                    'sales_support', 'sales_technical', 'salary_high', \n",
    "                                                    'salary_low', 'salary_medium']])\n",
    "\n",
    "# Build a Logistic Regression model with a higher max_iter\n",
    "model = LogisticRegression(max_iter=3000)\n",
    "model.fit(X_train_scaled, train_data_encoded['left'])\n",
    "\n",
    "# Use the trained model to make predictions on the test data\n",
    "y_pred = model.predict(X_test_scaled)\n",
    "conf_matrix = confusion_matrix(test_data_encoded['left'], y_pred)\n",
    "accuracy = accuracy_score(test_data_encoded['left'], y_pred)\n",
    "\n",
    "# Format the accuracy with five digits after the decimal point\n",
    "formatted_accuracy = '{:.5f}'.format(accuracy)\n",
    "\n",
    "# Display results\n",
    "print(\"Confusion Matrix:\")\n",
    "print(conf_matrix)\n",
    "print(\"Accuracy:\", formatted_accuracy)\n",
    "\n",
    "# Save the shuffled train and test data to new CSV files\n",
    "train_data.to_csv('data/HW2_hr-analytics_train_shuffled.csv', index=False)\n",
    "test_data.to_csv('data/HW2_hr-analytics_test_shuffled.csv', index=False)"
   ]
  },
  {
   "cell_type": "code",
   "execution_count": 4,
   "id": "0a8d7456-6f22-49d6-b428-19206c8563bf",
   "metadata": {},
   "outputs": [],
   "source": [
    "# Load the test data\n",
    "test_data = pd.read_csv('data/HW2_hr-analytics_test.csv')\n",
    "\n",
    "# Preprocess the test data (encoding, filling missing values, etc.)\n",
    "test_data_encoded = pd.get_dummies(test_data, columns=['sales', 'salary'])\n",
    "test_data_encoded.fillna(train_data_encoded.mean(), inplace=True)\n",
    "\n",
    "# Use the trained model to make predictions on the test data\n",
    "test_predictions = model.predict(X_test_scaled)\n",
    "\n",
    "# Create a DataFrame to store the test predictions\n",
    "test_sol = pd.DataFrame({'left': test_predictions})\n",
    "\n",
    "# Save the test predictions to \"HW2_hr-analytics_test_sol.csv\"\n",
    "test_sol.to_csv('data/HW2_hr-analytics_test_sol.csv', index=False)"
   ]
  },
  {
   "cell_type": "code",
   "execution_count": null,
   "id": "f70fa313-dfbc-4dec-8ced-2ca561df0201",
   "metadata": {},
   "outputs": [],
   "source": []
  }
 ],
 "metadata": {
  "kernelspec": {
   "display_name": "Python 3 (ipykernel)",
   "language": "python",
   "name": "python3"
  },
  "language_info": {
   "codemirror_mode": {
    "name": "ipython",
    "version": 3
   },
   "file_extension": ".py",
   "mimetype": "text/x-python",
   "name": "python",
   "nbconvert_exporter": "python",
   "pygments_lexer": "ipython3",
   "version": "3.9.7"
  }
 },
 "nbformat": 4,
 "nbformat_minor": 5
}
