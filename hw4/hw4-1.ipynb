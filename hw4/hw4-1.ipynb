{
 "cells": [
  {
   "cell_type": "markdown",
   "id": "48729572-fa31-4c2b-8ff0-7e12dd5b04a1",
   "metadata": {},
   "source": [
    "> **import tPyTorch**"
   ]
  },
  {
   "cell_type": "code",
   "execution_count": 1,
   "id": "bed07035-87d9-4cf0-a7fe-fd5ac929d8e8",
   "metadata": {},
   "outputs": [],
   "source": [
    "import torch\n",
    "from torch.autograd import Variable\n",
    "import torch.optim as optim"
   ]
  },
  {
   "cell_type": "markdown",
   "id": "8706a935-5ec9-47c4-9ff7-6e2cd9f918c5",
   "metadata": {},
   "source": [
    "> **1. 配合pytorch 的optimizer 利用遞迴方式找出𝑥𝑚𝑖𝑛。**"
   ]
  },
  {
   "cell_type": "code",
   "execution_count": 4,
   "id": "1f1174e2-dfd8-4cdb-8201-aa15d68d2e73",
   "metadata": {},
   "outputs": [],
   "source": [
    "def find_min_optimizer(a4, a3, a2, a1, a0):\n",
    "    x = Variable(torch.tensor([0.0]), requires_grad=True)\n",
    "    optimizer = optim.Adam([x], lr=0.01)\n",
    "\n",
    "    for _ in range(5000):\n",
    "        y = a4 * x**4 + a3 * x**3 + a2 * x**2 + a1 * x + a0\n",
    "        optimizer.zero_grad()\n",
    "        y.backward()\n",
    "        optimizer.step()\n",
    "\n",
    "    xmin = x.item()\n",
    "    return xmin"
   ]
  },
  {
   "cell_type": "markdown",
   "id": "c4b2b820-7bfd-4aaa-9c41-880898bd111e",
   "metadata": {},
   "source": [
    "> **2. 不使用optimizer，而用自己更新遞迴方式找出𝑥𝑚𝑖𝑛。**"
   ]
  },
  {
   "cell_type": "code",
   "execution_count": 5,
   "id": "b77fa3b2-203e-4cd2-9087-2ab655c44f14",
   "metadata": {},
   "outputs": [],
   "source": [
    "def find_min_recursive(a4, a3, a2, a1, a0, x=0.0, lr=0.0001, num_iterations=5000):\n",
    "    for _ in range(num_iterations):\n",
    "        gradient = 4 * a4 * x**3 + 3 * a3 * x**2 + 2 * a2 * x + a1\n",
    "        x = x - lr * gradient\n",
    "\n",
    "    xmin = x\n",
    "    return xmin"
   ]
  },
  {
   "cell_type": "markdown",
   "id": "0252a842-6c4c-4765-a9b0-f88394e6fa44",
   "metadata": {},
   "source": [
    "> **Input the five coefficients: 𝑎4,𝑎3,𝑎2,𝑎1,𝑎0**"
   ]
  },
  {
   "cell_type": "code",
   "execution_count": 8,
   "id": "9794a261-1b5d-4ca5-8f22-902a599af0e8",
   "metadata": {},
   "outputs": [
    {
     "name": "stdin",
     "output_type": "stream",
     "text": [
      "Enter the coefficient a4 (> 0):  5\n",
      "Enter the coefficient a3:  -6\n",
      "Enter the coefficient a2:  3\n",
      "Enter the coefficient a1:  500\n",
      "Enter the coefficient a0:  90\n"
     ]
    }
   ],
   "source": [
    "a4 = float(input(\"Enter the coefficient a4 (> 0): \"))\n",
    "a3 = float(input(\"Enter the coefficient a3: \"))\n",
    "a2 = float(input(\"Enter the coefficient a2: \"))\n",
    "a1 = float(input(\"Enter the coefficient a1: \"))\n",
    "a0 = float(input(\"Enter the coefficient a0: \"))"
   ]
  },
  {
   "cell_type": "markdown",
   "id": "bd7cf613-33c0-4ed5-a14d-5ed98edbcb7a",
   "metadata": {},
   "source": [
    "> **Caculation and result**"
   ]
  },
  {
   "cell_type": "code",
   "execution_count": 9,
   "id": "9cdb6a37-7ec1-49bd-ba75-0c7383496d8b",
   "metadata": {},
   "outputs": [
    {
     "name": "stdout",
     "output_type": "stream",
     "text": [
      "Minimum using optimizer: -2.622001886367798\n",
      "Minimum using recursive method: -2.6220022832389183\n"
     ]
    }
   ],
   "source": [
    "result_optimizer = find_min_optimizer(a4, a3, a2, a1, a0)\n",
    "result_recursive = find_min_recursive(a4, a3, a2, a1, a0)\n",
    "\n",
    "print(\"Minimum using optimizer:\", result_optimizer)\n",
    "print(\"Minimum using recursive method:\", result_recursive)"
   ]
  }
 ],
 "metadata": {
  "kernelspec": {
   "display_name": "Python 3 (ipykernel)",
   "language": "python",
   "name": "python3"
  },
  "language_info": {
   "codemirror_mode": {
    "name": "ipython",
    "version": 3
   },
   "file_extension": ".py",
   "mimetype": "text/x-python",
   "name": "python",
   "nbconvert_exporter": "python",
   "pygments_lexer": "ipython3",
   "version": "3.9.7"
  }
 },
 "nbformat": 4,
 "nbformat_minor": 5
}
